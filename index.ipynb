{
 "cells": [
  {
   "cell_type": "markdown",
   "metadata": {},
   "source": [
    "# Web Scraping - Lab\n",
    "\n",
    "## Introduction\n",
    "\n",
    "Now that you've seen a more extensive example of developing a web scraping script, it's time to further practice and formalize that knowledge by writing functions to parse specific pieces of information from the web page and then synthesizing these into a larger loop that will iterate over successive web pages in order to build a complete dataset.\n",
    "\n",
    "## Objectives\n",
    "\n",
    "You will be able to:\n",
    "\n",
    "* Write functions to parse specific information from a web page\n",
    "* Iterate over successive web pages in order to create a dataset"
   ]
  },
  {
   "cell_type": "markdown",
   "metadata": {},
   "source": [
    "## Lab Overview\n",
    "\n",
    "This lab will build upon the previous lesson. In the end, you'll look to write a script that will iterate over all of the pages for the demo site and extract the title, price, star rating and availability of each book listed. Building up to that, you'll formalize the concepts from the lesson by writing functions that will extract a list of each of these features for each web page. You'll then combine these functions into the full script which will look something like this:  \n",
    "\n",
    "```python\n",
    "df = pd.DataFrame()\n",
    "for i in range(2,51):\n",
    "    url = \"http://books.toscrape.com/catalogue/page-{}.html\".format(i)\n",
    "    soup = BeautifulSoup(html_page.content, 'html.parser')\n",
    "    new_titles = retrieve_titles(soup)\n",
    "    new_star_ratings = retrieve_ratings(soup)\n",
    "    new_prices = retrieve_prices(soup)\n",
    "    new_avails = retrieve_avails(soup)\n",
    "    ...\n",
    " ```"
   ]
  },
  {
   "cell_type": "markdown",
   "metadata": {},
   "source": [
    "## Retrieving Titles\n",
    "\n",
    "To start, write a function that extracts the titles of the books on a given page. The input for the function should be the `soup` for the HTML of the page."
   ]
  },
  {
   "cell_type": "code",
   "execution_count": 2,
   "metadata": {},
   "outputs": [],
   "source": [
    "#df = pd.DataFrame()\n",
    "import requests\n",
    "from bs4 import BeautifulSoup\n",
    "text = requests.get(\"http://books.toscrape.com/catalogue/page-2.html\").text\n",
    "soup = BeautifulSoup(text, 'html.parser')"
   ]
  },
  {
   "cell_type": "code",
   "execution_count": 4,
   "metadata": {},
   "outputs": [],
   "source": [
    "books = soup.find_all(\"article\", attrs={\"class\": \"product_pod\"})"
   ]
  },
  {
   "cell_type": "code",
   "execution_count": 5,
   "metadata": {
    "scrolled": true
   },
   "outputs": [
    {
     "data": {
      "text/plain": [
       "<article class=\"product_pod\">\n",
       "<div class=\"image_container\">\n",
       "<a href=\"in-her-wake_980/index.html\"><img alt=\"In Her Wake\" class=\"thumbnail\" src=\"../media/cache/5d/72/5d72709c6a7a9584a4d1cf07648bfce1.jpg\"/></a>\n",
       "</div>\n",
       "<p class=\"star-rating One\">\n",
       "<i class=\"icon-star\"></i>\n",
       "<i class=\"icon-star\"></i>\n",
       "<i class=\"icon-star\"></i>\n",
       "<i class=\"icon-star\"></i>\n",
       "<i class=\"icon-star\"></i>\n",
       "</p>\n",
       "<h3><a href=\"in-her-wake_980/index.html\" title=\"In Her Wake\">In Her Wake</a></h3>\n",
       "<div class=\"product_price\">\n",
       "<p class=\"price_color\">Â£12.84</p>\n",
       "<p class=\"instock availability\">\n",
       "<i class=\"icon-ok\"></i>\n",
       "    \n",
       "        In stock\n",
       "    \n",
       "</p>\n",
       "<form>\n",
       "<button class=\"btn btn-primary btn-block\" data-loading-text=\"Adding...\" type=\"submit\">Add to basket</button>\n",
       "</form>\n",
       "</div>\n",
       "</article>"
      ]
     },
     "execution_count": 5,
     "metadata": {},
     "output_type": "execute_result"
    }
   ],
   "source": [
    "books[0]"
   ]
  },
  {
   "cell_type": "code",
   "execution_count": 6,
   "metadata": {},
   "outputs": [
    {
     "data": {
      "text/plain": [
       "'In Her Wake'"
      ]
     },
     "execution_count": 6,
     "metadata": {},
     "output_type": "execute_result"
    }
   ],
   "source": [
    "books[0].h3.text"
   ]
  },
  {
   "cell_type": "code",
   "execution_count": 24,
   "metadata": {},
   "outputs": [],
   "source": [
    "import requests\n",
    "from bs4 import BeautifulSoup\n",
    "\n",
    "def retrieve_titles(soup):\n",
    "    titles = []\n",
    "    books = soup.find_all(\"article\", attrs={\"class\": \"product_pod\"})\n",
    "    for book in books:\n",
    "        title = book.h3.text\n",
    "        titles.append(title)\n",
    "    return titles"
   ]
  },
  {
   "cell_type": "markdown",
   "metadata": {},
   "source": [
    "## Retrieve Ratings\n",
    "\n",
    "Next, write a similar function to retrieve the star ratings on a given page. Again, the function should take in the `soup` from the given html page and return a list of the star-ratings for the books. These star ratings should be formatted as integers."
   ]
  },
  {
   "cell_type": "code",
   "execution_count": 11,
   "metadata": {},
   "outputs": [
    {
     "data": {
      "text/plain": [
       "'One'"
      ]
     },
     "execution_count": 11,
     "metadata": {},
     "output_type": "execute_result"
    }
   ],
   "source": [
    "books[0].find(attrs={\"class\":\"star-rating\"})[\"class\"][1]"
   ]
  },
  {
   "cell_type": "code",
   "execution_count": 4,
   "metadata": {},
   "outputs": [],
   "source": [
    "import requests\n",
    "from bs4 import BeautifulSoup\n",
    "\n",
    "def retrieve_ratings(soup):\n",
    "    titles = []\n",
    "    soup = BeautifulSoup(text, 'html.parser')\n",
    "    books = soup.find_all(\"article\", attrs={\"class\": \"product_pod\"})\n",
    "    for book in books:\n",
    "        title = book.find(attrs={\"class\":\"star-rating\"})[\"class\"][1]\n",
    "        titles.append(title)\n",
    "    return titles"
   ]
  },
  {
   "cell_type": "markdown",
   "metadata": {},
   "source": [
    "## Retrieve Prices\n",
    "\n",
    "Now write a function to retrieve the prices on a given page. The function should take in the `soup` from the given page and return a list of prices formatted as floats."
   ]
  },
  {
   "cell_type": "code",
   "execution_count": 23,
   "metadata": {},
   "outputs": [],
   "source": [
    "import requests\n",
    "from bs4 import BeautifulSoup\n",
    "\n",
    "def retrieve_prices(soup):\n",
    "    titles = []\n",
    "    books = soup.find_all(\"article\", attrs={\"class\": \"product_pod\"})\n",
    "    for book in books:\n",
    "        title = book.find(attrs={\"class\":\"price_color\"}).text\n",
    "        title = float(title[title.find(\"£\")+1:])\n",
    "        titles.append(title)\n",
    "    return titles"
   ]
  },
  {
   "cell_type": "markdown",
   "metadata": {},
   "source": [
    "## Retrieve Availability\n",
    "\n",
    "Write a function to retrieve whether each book is available or not. The function should take in the `soup` from a given html page and return a list of the availability for each book."
   ]
  },
  {
   "cell_type": "code",
   "execution_count": 6,
   "metadata": {},
   "outputs": [],
   "source": [
    "import requests\n",
    "from bs4 import BeautifulSoup\n",
    "\n",
    "def retrieve_availabilities(soup):\n",
    "    titles = []\n",
    "    books = soup.find_all(\"article\", attrs={\"class\": \"product_pod\"})\n",
    "    for book in books:\n",
    "        title = book.find(attrs={\"class\":\"availability\"}).text\n",
    "        titles.append(title)\n",
    "    return titles"
   ]
  },
  {
   "cell_type": "markdown",
   "metadata": {},
   "source": [
    "## Create a Script to Retrieve All the Books From All 50 Pages\n",
    "\n",
    "Finally, write a script to retrieve all of the information from all 50 pages of the books.toscrape.com website. "
   ]
  },
  {
   "cell_type": "code",
   "execution_count": 21,
   "metadata": {
    "scrolled": true
   },
   "outputs": [
    {
     "name": "stdout",
     "output_type": "stream",
     "text": [
      "['\\n\\n    \\n        In stock\\n    \\n', '\\n\\n    \\n        In stock\\n    \\n', '\\n\\n    \\n        In stock\\n    \\n', '\\n\\n    \\n        In stock\\n    \\n', '\\n\\n    \\n        In stock\\n    \\n', '\\n\\n    \\n        In stock\\n    \\n', '\\n\\n    \\n        In stock\\n    \\n', '\\n\\n    \\n        In stock\\n    \\n', '\\n\\n    \\n        In stock\\n    \\n', '\\n\\n    \\n        In stock\\n    \\n', '\\n\\n    \\n        In stock\\n    \\n', '\\n\\n    \\n        In stock\\n    \\n', '\\n\\n    \\n        In stock\\n    \\n', '\\n\\n    \\n        In stock\\n    \\n', '\\n\\n    \\n        In stock\\n    \\n', '\\n\\n    \\n        In stock\\n    \\n', '\\n\\n    \\n        In stock\\n    \\n', '\\n\\n    \\n        In stock\\n    \\n', '\\n\\n    \\n        In stock\\n    \\n', '\\n\\n    \\n        In stock\\n    \\n']\n",
      "Â£12.84\n",
      "Â£37.32\n",
      "Â£30.52\n",
      "Â£25.27\n",
      "Â£34.53\n",
      "Â£54.64\n",
      "Â£22.50\n",
      "Â£53.13\n",
      "Â£40.30\n",
      "Â£44.18\n",
      "Â£17.66\n",
      "Â£31.05\n",
      "Â£23.82\n",
      "Â£36.89\n",
      "Â£15.94\n",
      "Â£33.29\n",
      "Â£18.02\n",
      "Â£19.63\n",
      "Â£52.22\n",
      "Â£33.63\n"
     ]
    }
   ],
   "source": [
    "#df = pd.DataFrame()\n",
    "import requests\n",
    "from bs4 import BeautifulSoup\n",
    "import pandas as pd\n",
    "avail = []\n",
    "prices = []\n",
    "ratings = []\n",
    "titles = []\n",
    "for i in range(2,3):\n",
    "    url = \"http://books.toscrape.com/catalogue/page-{}.html\".format(i)\n",
    "    text = requests.get(url).text\n",
    "    soup = BeautifulSoup(text, 'html.parser')\n",
    "    avail = avail  + retrieve_availabilities(soup)\n",
    "    prices = prices + retrieve_prices(soup)\n",
    "    titles = titles + retrieve_titles(soup)\n",
    "    ratings = ratings + retrieve_ratings(soup)\n",
    "\n",
    "df = pd.DataFrame([titles,prices, ratings, avail])"
   ]
  },
  {
   "cell_type": "code",
   "execution_count": 22,
   "metadata": {},
   "outputs": [
    {
     "data": {
      "text/html": [
       "<div>\n",
       "<style scoped>\n",
       "    .dataframe tbody tr th:only-of-type {\n",
       "        vertical-align: middle;\n",
       "    }\n",
       "\n",
       "    .dataframe tbody tr th {\n",
       "        vertical-align: top;\n",
       "    }\n",
       "\n",
       "    .dataframe thead th {\n",
       "        text-align: right;\n",
       "    }\n",
       "</style>\n",
       "<table border=\"1\" class=\"dataframe\">\n",
       "  <thead>\n",
       "    <tr style=\"text-align: right;\">\n",
       "      <th></th>\n",
       "      <th>0</th>\n",
       "      <th>1</th>\n",
       "      <th>2</th>\n",
       "      <th>3</th>\n",
       "    </tr>\n",
       "  </thead>\n",
       "  <tbody>\n",
       "    <tr>\n",
       "      <th>0</th>\n",
       "      <td>In Her Wake</td>\n",
       "      <td>12.84</td>\n",
       "      <td>One</td>\n",
       "      <td>\\n\\n    \\n        In stock\\n    \\n</td>\n",
       "    </tr>\n",
       "    <tr>\n",
       "      <th>1</th>\n",
       "      <td>In Her Wake</td>\n",
       "      <td>37.32</td>\n",
       "      <td>Two</td>\n",
       "      <td>\\n\\n    \\n        In stock\\n    \\n</td>\n",
       "    </tr>\n",
       "    <tr>\n",
       "      <th>2</th>\n",
       "      <td>In Her Wake</td>\n",
       "      <td>30.52</td>\n",
       "      <td>Three</td>\n",
       "      <td>\\n\\n    \\n        In stock\\n    \\n</td>\n",
       "    </tr>\n",
       "    <tr>\n",
       "      <th>3</th>\n",
       "      <td>In Her Wake</td>\n",
       "      <td>25.27</td>\n",
       "      <td>Five</td>\n",
       "      <td>\\n\\n    \\n        In stock\\n    \\n</td>\n",
       "    </tr>\n",
       "    <tr>\n",
       "      <th>4</th>\n",
       "      <td>In Her Wake</td>\n",
       "      <td>34.53</td>\n",
       "      <td>Five</td>\n",
       "      <td>\\n\\n    \\n        In stock\\n    \\n</td>\n",
       "    </tr>\n",
       "  </tbody>\n",
       "</table>\n",
       "</div>"
      ],
      "text/plain": [
       "             0      1      2                                   3\n",
       "0  In Her Wake  12.84    One  \\n\\n    \\n        In stock\\n    \\n\n",
       "1  In Her Wake  37.32    Two  \\n\\n    \\n        In stock\\n    \\n\n",
       "2  In Her Wake  30.52  Three  \\n\\n    \\n        In stock\\n    \\n\n",
       "3  In Her Wake  25.27   Five  \\n\\n    \\n        In stock\\n    \\n\n",
       "4  In Her Wake  34.53   Five  \\n\\n    \\n        In stock\\n    \\n"
      ]
     },
     "execution_count": 22,
     "metadata": {},
     "output_type": "execute_result"
    }
   ],
   "source": [
    "df.T.head()"
   ]
  },
  {
   "cell_type": "markdown",
   "metadata": {},
   "source": [
    "## Level-Up: Write a new version of the script you just wrote. \n",
    "\n",
    "If you used url hacking to generate each successive page url, instead write a function that retrieves the link from the `\"next\"` button at the bottom of the page. Conversely, if you already used this approach above, use URL-hacking (arguably the easier of the two methods in this case)."
   ]
  },
  {
   "cell_type": "code",
   "execution_count": null,
   "metadata": {},
   "outputs": [],
   "source": [
    "#Your code here"
   ]
  },
  {
   "cell_type": "markdown",
   "metadata": {},
   "source": [
    "## Summary\n",
    "\n",
    "Well done! You just completed your first full web scraping project! You're ready to start harnessing the power of the web!"
   ]
  }
 ],
 "metadata": {
  "kernelspec": {
   "display_name": "Python 3",
   "language": "python",
   "name": "python3"
  },
  "language_info": {
   "codemirror_mode": {
    "name": "ipython",
    "version": 3
   },
   "file_extension": ".py",
   "mimetype": "text/x-python",
   "name": "python",
   "nbconvert_exporter": "python",
   "pygments_lexer": "ipython3",
   "version": "3.6.6"
  }
 },
 "nbformat": 4,
 "nbformat_minor": 2
}
